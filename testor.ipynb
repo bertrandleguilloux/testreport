import plotly.graph_objects as go

# Sample data
x_values = ['A', 'B', 'C', 'D']
y_values = [10, 20, 15, 25]

# Create a bar chart
fig = go.Figure(data=go.Bar(x=x_values, y=y_values))

# Update layout (optional)
fig.update_layout(title='Sample Bar Chart', xaxis_title='Categories', yaxis_title='Values')

# Save the plot as a static image
fig.write_image("plot.png")
