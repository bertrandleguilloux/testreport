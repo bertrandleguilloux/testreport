{
 "cells": [
  {
   "cell_type": "code",
   "execution_count": 5,
   "id": "eee671eb-5c4b-4c2f-b536-caddb0d9751e",
   "metadata": {
    "execution": {
     "iopub.execute_input": "2024-04-19T15:13:45.375034Z",
     "iopub.status.busy": "2024-04-19T15:13:45.374788Z",
     "iopub.status.idle": "2024-04-19T15:13:45.378608Z",
     "shell.execute_reply": "2024-04-19T15:13:45.378171Z",
     "shell.execute_reply.started": "2024-04-19T15:13:45.375018Z"
    }
   },
   "outputs": [
    {
     "name": "stdout",
     "output_type": "stream",
     "text": [
      "allez\n"
     ]
    }
   ],
   "source": [
    "print('allez')\n"
   ]
  },
  {
   "cell_type": "code",
   "execution_count": null,
   "id": "e78a77f5-3c51-484b-9987-acee1c0b23ba",
   "metadata": {},
   "outputs": [],
   "source": []
  }
 ],
 "metadata": {
  "kernelspec": {
   "display_name": "Python 3 (ipykernel)",
   "language": "python",
   "name": "python3"
  },
  "language_info": {
   "codemirror_mode": {
    "name": "ipython",
    "version": 3
   },
   "file_extension": ".py",
   "mimetype": "text/x-python",
   "name": "python",
   "nbconvert_exporter": "python",
   "pygments_lexer": "ipython3",
   "version": "3.11.8"
  }
 },
 "nbformat": 4,
 "nbformat_minor": 5
}
