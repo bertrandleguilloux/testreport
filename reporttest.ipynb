{
 "cells": [
  {
   "cell_type": "code",
   "execution_count": 3,
   "id": "14b1abe4-18fe-4aba-b05f-d8c0d836dae2",
   "metadata": {
    "execution": {
     "iopub.execute_input": "2024-04-19T12:32:20.531334Z",
     "iopub.status.busy": "2024-04-19T12:32:20.530999Z",
     "iopub.status.idle": "2024-04-19T12:32:23.439414Z",
     "shell.execute_reply": "2024-04-19T12:32:23.438885Z",
     "shell.execute_reply.started": "2024-04-19T12:32:20.531295Z"
    }
   },
   "outputs": [
    {
     "name": "stdout",
     "output_type": "stream",
     "text": [
      "Looking in indexes: https://pypi.org/simple, https://pydev.trading.imc.intra/develop/pydev, https://pydev.trading.imc.intra/prod/pydev\n",
      "Requirement already satisfied: plotly in /opt/conda/lib/python3.11/site-packages (5.19.0)\n",
      "Collecting schedule\n",
      "  Downloading http://imc-pypi-repo.trading.imc.intra/repository/prod-group/packages/schedule/1.2.1/schedule-1.2.1-py2.py3-none-any.whl (11 kB)\n",
      "Requirement already satisfied: tenacity>=6.2.0 in /opt/conda/lib/python3.11/site-packages (from plotly) (8.2.3)\n",
      "Requirement already satisfied: packaging in /opt/conda/lib/python3.11/site-packages (from plotly) (24.0)\n",
      "Installing collected packages: schedule\n",
      "Successfully installed schedule-1.2.1\n",
      "\u001b[33mWARNING: Running pip as the 'root' user can result in broken permissions and conflicting behaviour with the system package manager. It is recommended to use a virtual environment instead: https://pip.pypa.io/warnings/venv\u001b[0m\u001b[33m\n",
      "\u001b[0mNote: you may need to restart the kernel to use updated packages.\n"
     ]
    }
   ],
   "source": [
    "pip install plotly schedule"
   ]
  },
  {
   "cell_type": "code",
   "execution_count": null,
   "id": "eee671eb-5c4b-4c2f-b536-caddb0d9751e",
   "metadata": {},
   "outputs": [],
   "source": []
  }
 ],
 "metadata": {
  "kernelspec": {
   "display_name": "Python 3 (ipykernel)",
   "language": "python",
   "name": "python3"
  },
  "language_info": {
   "codemirror_mode": {
    "name": "ipython",
    "version": 3
   },
   "file_extension": ".py",
   "mimetype": "text/x-python",
   "name": "python",
   "nbconvert_exporter": "python",
   "pygments_lexer": "ipython3",
   "version": "3.11.8"
  }
 },
 "nbformat": 4,
 "nbformat_minor": 5
}
